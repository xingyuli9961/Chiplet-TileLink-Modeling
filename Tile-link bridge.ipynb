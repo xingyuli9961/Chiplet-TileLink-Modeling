{
 "cells": [
  {
   "cell_type": "code",
   "execution_count": 8,
   "id": "2a6cb809",
   "metadata": {},
   "outputs": [
    {
     "data": {
      "text/plain": [
       "\u001b[36mpath\u001b[39m: \u001b[32mString\u001b[39m = \u001b[32m\"/Users/xingyuli/Desktop/Academics/chisel-bootcamp/source/load-ivy.sc\"\u001b[39m"
      ]
     },
     "execution_count": 8,
     "metadata": {},
     "output_type": "execute_result"
    }
   ],
   "source": [
    "val path = System.getProperty(\"user.dir\") + \"/source/load-ivy.sc\"\n",
    "interp.load.module(ammonite.ops.Path(java.nio.file.FileSystems.getDefault().getPath(path)))"
   ]
  },
  {
   "cell_type": "code",
   "execution_count": 9,
   "id": "c7759ba0",
   "metadata": {},
   "outputs": [
    {
     "data": {
      "text/plain": [
       "\u001b[32mimport \u001b[39m\u001b[36mchisel3._\n",
       "\u001b[39m\n",
       "\u001b[32mimport \u001b[39m\u001b[36mchisel3.util._\n",
       "\u001b[39m\n",
       "\u001b[32mimport \u001b[39m\u001b[36mchisel3.tester._\n",
       "\u001b[39m\n",
       "\u001b[32mimport \u001b[39m\u001b[36mchisel3.tester.RawTester.test\u001b[39m"
      ]
     },
     "execution_count": 9,
     "metadata": {},
     "output_type": "execute_result"
    }
   ],
   "source": [
    "import chisel3._\n",
    "import chisel3.util._\n",
    "import chisel3.tester._\n",
    "import chisel3.tester.RawTester.test"
   ]
  },
  {
   "cell_type": "code",
   "execution_count": 10,
   "id": "5b0f353e",
   "metadata": {},
   "outputs": [
    {
     "data": {
      "text/plain": [
       "defined \u001b[32mobject\u001b[39m \u001b[36mTokenQueueConsts\u001b[39m"
      ]
     },
     "execution_count": 10,
     "metadata": {},
     "output_type": "execute_result"
    }
   ],
   "source": [
    "// This is just a cell containing some constants\n",
    "object TokenQueueConsts {\n",
    "val ACETOKENS_PER_BIG_TOKEN = 3\n",
    "val BDTOKENS_PER_BIG_TOKEN = 3\n",
    "val BIG_TOKEN_WIDTH = 512\n",
    "val TOKEN_QUEUE_DEPTH = 6144\n",
    "}"
   ]
  },
  {
   "cell_type": "code",
   "execution_count": 11,
   "id": "69ab08d1",
   "metadata": {},
   "outputs": [
    {
     "data": {
      "text/plain": [
       "\u001b[36mNET_IF_WIDTH\u001b[39m: \u001b[32mInt\u001b[39m = \u001b[32m64\u001b[39m\n",
       "\u001b[36mETH_MAC_BITS\u001b[39m: \u001b[32mInt\u001b[39m = \u001b[32m48\u001b[39m\n",
       "\u001b[36mRLIMIT_MAX_INC\u001b[39m: \u001b[32mInt\u001b[39m = \u001b[32m256\u001b[39m\n",
       "\u001b[36mRLIMIT_MAX_PERIOD\u001b[39m: \u001b[32mInt\u001b[39m = \u001b[32m256\u001b[39m\n",
       "\u001b[36mRLIMIT_MAX_SIZE\u001b[39m: \u001b[32mInt\u001b[39m = \u001b[32m256\u001b[39m\n",
       "defined \u001b[32mclass\u001b[39m \u001b[36mRateLimiterSettings\u001b[39m\n",
       "defined \u001b[32mclass\u001b[39m \u001b[36mPauserSettings\u001b[39m\n",
       "defined \u001b[32mclass\u001b[39m \u001b[36mStreamChannel\u001b[39m\n",
       "defined \u001b[32mclass\u001b[39m \u001b[36mNICIOvonly\u001b[39m"
      ]
     },
     "execution_count": 11,
     "metadata": {},
     "output_type": "execute_result"
    }
   ],
   "source": [
    "// Added for compiling unit tests\n",
    "val NET_IF_WIDTH = 64\n",
    "val ETH_MAC_BITS = 48\n",
    "\n",
    "val RLIMIT_MAX_INC = 256\n",
    "val RLIMIT_MAX_PERIOD = 256\n",
    "val RLIMIT_MAX_SIZE = 256\n",
    "\n",
    "class RateLimiterSettings extends Bundle {\n",
    "  val incBits = log2Ceil(RLIMIT_MAX_INC)\n",
    "  val periodBits = log2Ceil(RLIMIT_MAX_PERIOD)\n",
    "  val sizeBits = log2Ceil(RLIMIT_MAX_SIZE)\n",
    "\n",
    "  /*\n",
    "   * Given a clock frequency of X, you can achieve an output bandwidth\n",
    "   * of Y = X * (N / D), where N <= D, by setting inc to N and period to (D - 1).\n",
    "   * The field size should be set to the number of consecutive beats that\n",
    "   * can be sent before rate-limiting kicks in.\n",
    "   */\n",
    "  val inc = UInt(incBits.W)\n",
    "  val period = UInt(periodBits.W)\n",
    "  val size = UInt(sizeBits.W)\n",
    "}\n",
    "\n",
    "class PauserSettings extends Bundle {\n",
    "  val threshold = UInt(16.W)\n",
    "  val quanta    = UInt(16.W)\n",
    "  val refresh   = UInt(16.W)\n",
    "}\n",
    "\n",
    "\n",
    "class StreamChannel(val w: Int) extends Bundle {\n",
    "  val data = UInt(w.W)\n",
    "  val keep = UInt((w/8).W)\n",
    "  val last = Bool()\n",
    "}\n",
    "\n",
    "class NICIOvonly extends Bundle {\n",
    "  val in = Flipped(Valid(new StreamChannel(NET_IF_WIDTH)))\n",
    "  val out = Valid(new StreamChannel(NET_IF_WIDTH))\n",
    "  val macAddr = Input(UInt(ETH_MAC_BITS.W))\n",
    "  val rlimit = Input(new RateLimiterSettings)\n",
    "  val pauser = Input(new PauserSettings)\n",
    "\n",
    "}\n",
    "// Added for compiling unit tests"
   ]
  },
  {
   "cell_type": "code",
   "execution_count": 12,
   "id": "43893d56",
   "metadata": {},
   "outputs": [
    {
     "data": {
      "text/plain": [
       "defined \u001b[32mclass\u001b[39m \u001b[36mNICTargetIO\u001b[39m"
      ]
     },
     "execution_count": 12,
     "metadata": {},
     "output_type": "execute_result"
    }
   ],
   "source": [
    "class NICTargetIO extends Bundle {\n",
    "val clock = Input(Clock())\n",
    "val nic = Flipped(new NICIOvonly)\n",
    "}"
   ]
  },
  {
   "cell_type": "code",
   "execution_count": 12,
   "id": "819b9190",
   "metadata": {},
   "outputs": [],
   "source": [
    "// // Un-comment when integration\n",
    "\n",
    "// class NICBridge(implicit p: Parameters) extends BlackBox with Bridge[HostPortIO[NICTargetIO], SimpleNICBridgeModule] {\n",
    "// val io = IO(new NICTargetIO)\n",
    "// val bridgeIO = HostPort(io)\n",
    "// val constructorArg = None\n",
    "//   generateAnnotations()\n",
    "// }\n",
    "// object NICBridge {\n",
    "// def apply(clock: Clock, nicIO: NICIOvonly)(implicit p: Parameters): NICBridge = {\n",
    "// val ep = Module(new NICBridge)\n",
    "//     ep.io.nic <> nicIO\n",
    "//     ep.io.clock := clock\n",
    "//     ep\n",
    "//   }\n",
    "// }"
   ]
  },
  {
   "cell_type": "code",
   "execution_count": 15,
   "id": "4e5a3f33",
   "metadata": {},
   "outputs": [],
   "source": [
    "/* on a NIC token transaction:\n",
    " * 1) simulation driver feeds an empty token to start:\n",
    " *  data_in is garbage or real value (if exists)\n",
    " *  data_in_valid is 0 or 1 respectively\n",
    " *  data_out_ready is true (say host can always accept)\n",
    " *\n",
    " * 2) target responds:\n",
    " *  data_out garbage or real value (if exists)\n",
    " *  data_out_valid 0 or 1 respectively\n",
    " *  data_in_ready would be 1, so driver knows how to construct the next token if there was data to send\n",
    " *\n",
    " *  repeat\n",
    " */\n",
    "\n",
    "// https://github.com/chipsalliance/rocket-chip/blob/master/src/main/scala/tilelink/Bundles.scala"
   ]
  },
  {
   "cell_type": "code",
   "execution_count": 15,
   "id": "b0014fab",
   "metadata": {},
   "outputs": [
    {
     "data": {
      "text/plain": [
       "defined \u001b[32mclass\u001b[39m \u001b[36mBIGToken\u001b[39m"
      ]
     },
     "execution_count": 15,
     "metadata": {},
     "output_type": "execute_result"
    }
   ],
   "source": [
    "// class ReadyValidLast extends Bundle {\n",
    "//     val data_last = Bool()\n",
    "//     val ready = Bool()\n",
    "//     val valid = Bool()\n",
    "// }\n",
    "// class BIGToken extends Bundle {\n",
    "//     val data = Vec(7, UInt(64.W))\n",
    "//     val rvls = Vec(7, new ReadyValidLast())\n",
    "//     val pad = UInt(43.W)\n",
    "// }"
   ]
  },
  {
   "cell_type": "code",
   "execution_count": 16,
   "id": "a734e643",
   "metadata": {},
   "outputs": [],
   "source": [
    "// class ACEToken extends Bundle{\n",
    "//     val A = TLBundleA(params)\n",
    "//     val C = TLBundleC(params)\n",
    "//     val E = TLBundleE(params)\n",
    "//     val Avalid = Bool()\n",
    "//     val Cvalid = Bool()\n",
    "//     val Evalid = Bool()\n",
    "// }\n",
    "// class BDToken extends Bundle{\n",
    "//     val B = TLBundleB(params)\n",
    "//     val D = TLBundleD(params)\n",
    "//     val Bvalid = Bool()\n",
    "//     val Dvalid = Bool()\n",
    "// }\n",
    "\n",
    "// class ACETokenGenerator extends Module {\n",
    "//     val io = IO(new Bundle{\n",
    "//         val in = Input(new ACEToken)\n",
    "//         val out = Output(UInt(512.W))\n",
    "//     })\n",
    "//     io.out := io.in.asUInt\n",
    "//     require(io.in.asUInt.getWidth <= 512)\n",
    "// }\n",
    "\n",
    "// class BDTokenGenerator extends Module {\n",
    "//     val io = IO(new Bundle{\n",
    "//         val in = Input(new BDToken)\n",
    "//         val out = Output(UInt(512.W))\n",
    "//     })\n",
    "//     io.out := io.in.asUInt\n",
    "//     require(io.in.asUInt.getWidth <= 512)\n",
    "// }\n"
   ]
  },
  {
   "cell_type": "code",
   "execution_count": 83,
   "id": "234b8336",
   "metadata": {},
   "outputs": [
    {
     "data": {
      "text/plain": [
       "defined \u001b[32mclass\u001b[39m \u001b[36mACEToken\u001b[39m"
      ]
     },
     "execution_count": 83,
     "metadata": {},
     "output_type": "execute_result"
    }
   ],
   "source": [
    "class ACEToken extends Bundle{\n",
    "    val A = UInt(8.W)\n",
    "    val C = UInt(15.W)\n",
    "    val E = UInt(9.W)\n",
    "    val Avalid = Bool()\n",
    "    val Cvalid = Bool()\n",
    "    val Evalid = Bool()\n",
    "}"
   ]
  },
  {
   "cell_type": "code",
   "execution_count": 84,
   "id": "11041548",
   "metadata": {},
   "outputs": [
    {
     "name": "stdout",
     "output_type": "stream",
     "text": [
      "Elaborating design...\n",
      "Done elaborating.\n",
      "module ACETokenGenerator(\n",
      "  input          clock,\n",
      "  input          reset,\n",
      "  input  [7:0]   io_in_A,\n",
      "  input  [14:0]  io_in_C,\n",
      "  input  [8:0]   io_in_E,\n",
      "  input          io_in_Avalid,\n",
      "  input          io_in_Cvalid,\n",
      "  input          io_in_Evalid,\n",
      "  output [511:0] io_out\n",
      ");\n",
      "  wire [34:0] _T = {io_in_A,io_in_C,io_in_E,io_in_Avalid,io_in_Cvalid,io_in_Evalid}; // @[cmd83.sc 6:21]\n",
      "  assign io_out = {{477'd0}, _T}; // @[cmd83.sc 6:21]\n",
      "endmodule\n",
      "\n"
     ]
    },
    {
     "data": {
      "text/plain": [
       "defined \u001b[32mclass\u001b[39m \u001b[36mACETokenGenerator\u001b[39m"
      ]
     },
     "execution_count": 84,
     "metadata": {},
     "output_type": "execute_result"
    }
   ],
   "source": [
    "class ACETokenGenerator extends Module {\n",
    "    val io = IO(new Bundle{\n",
    "        val in = Input(new ACEToken)\n",
    "        val out = Output(UInt(512.W))\n",
    "    })\n",
    "    io.out := io.in.asUInt\n",
    "    require(io.in.asUInt.getWidth <= 512)\n",
    "}\n",
    "println(getVerilog(new ACETokenGenerator))"
   ]
  },
  {
   "cell_type": "code",
   "execution_count": 87,
   "id": "57f9656a",
   "metadata": {},
   "outputs": [
    {
     "name": "stdout",
     "output_type": "stream",
     "text": [
      "Elaborating design...\n",
      "Done elaborating.\n",
      "UInt<512>(134225949)\n",
      "UInt<512>(5)\n",
      "test ACETokenGenerator Success: 0 tests passed in 3 cycles in 0.005381 seconds 557.49 Hz\n"
     ]
    }
   ],
   "source": [
    "test(new ACETokenGenerator) { c =>\n",
    "    c.io.in.A.poke(1.U)\n",
    "    c.io.in.C.poke(2.U)\n",
    "    c.io.in.E.poke(3.U)\n",
    "    c.io.in.Avalid.poke(true.B)\n",
    "    c.io.in.Cvalid.poke(false.B)\n",
    "    c.io.in.Evalid.poke(true.B)\n",
    "    println(c.io.out.peek())\n",
    "    c.clock.step(1)\n",
    "    c.io.in.A.poke(0.U)\n",
    "    c.io.in.C.poke(0.U)\n",
    "    c.io.in.E.poke(0.U)\n",
    "    c.io.in.Avalid.poke(true.B)\n",
    "    c.io.in.Cvalid.poke(false.B)\n",
    "    c.io.in.Evalid.poke(true.B)\n",
    "    println(c.io.out.peek())\n",
    "}"
   ]
  },
  {
   "cell_type": "code",
   "execution_count": 88,
   "id": "fcbee21a",
   "metadata": {},
   "outputs": [
    {
     "name": "stdout",
     "output_type": "stream",
     "text": [
      "Elaborating design...\n",
      "Done elaborating.\n",
      "module ACETokenGenerator(\n",
      "  input          clock,\n",
      "  input          reset,\n",
      "  input  [7:0]   io_in_A,\n",
      "  input  [14:0]  io_in_C,\n",
      "  input  [8:0]   io_in_E,\n",
      "  input          io_in_Avalid,\n",
      "  input          io_in_Cvalid,\n",
      "  input          io_in_Evalid,\n",
      "  output [511:0] io_out\n",
      ");\n",
      "  wire [34:0] _T = {io_in_A,io_in_C,io_in_E,io_in_Avalid,io_in_Cvalid,io_in_Evalid}; // @[cmd83.sc 6:21]\n",
      "  assign io_out = {{477'd0}, _T}; // @[cmd83.sc 6:21]\n",
      "endmodule\n",
      "\n"
     ]
    },
    {
     "data": {
      "text/plain": [
       "defined \u001b[32mclass\u001b[39m \u001b[36mACETokenDecoder\u001b[39m"
      ]
     },
     "execution_count": 88,
     "metadata": {},
     "output_type": "execute_result"
    }
   ],
   "source": [
    "class ACETokenDecoder extends Module {\n",
    "    val io = IO(new Bundle{\n",
    "        val in = Input(UInt(512.W))\n",
    "        val out = Output(new ACEToken)\n",
    "    })\n",
    "    io.out := io.in.asTypeOf(new ACEToken)\n",
    "}\n",
    "println(getVerilog(new ACETokenGenerator))"
   ]
  },
  {
   "cell_type": "code",
   "execution_count": 94,
   "id": "39e63940",
   "metadata": {},
   "outputs": [
    {
     "name": "stdout",
     "output_type": "stream",
     "text": [
      "Elaborating design...\n",
      "Done elaborating.\n",
      "UInt<8>(1)\n",
      "UInt<15>(2)\n",
      "UInt<9>(3)\n",
      "Bool(true)\n",
      "Bool(false)\n",
      "Bool(true)\n",
      "test ACETokenDecoder Success: 0 tests passed in 2 cycles in 0.003595 seconds 556.27 Hz\n"
     ]
    }
   ],
   "source": [
    "test(new ACETokenDecoder) { c =>\n",
    "    c.io.in.poke(134225949.U)\n",
    "    println(c.io.out.A.peek())\n",
    "    println(c.io.out.C.peek())\n",
    "    println(c.io.out.E.peek())\n",
    "    println(c.io.out.Avalid.peek())\n",
    "    println(c.io.out.Cvalid.peek())\n",
    "    println(c.io.out.Evalid.peek())\n",
    "    \n",
    "}"
   ]
  },
  {
   "cell_type": "code",
   "execution_count": 94,
   "id": "07f6625a",
   "metadata": {},
   "outputs": [],
   "source": [
    "// https://github.com/firesim/firesim/blob/366ceabe13ce27056ec1c53bf93d017ec182d85e/sim/midas/src/main/scala/midas/widgets/Widget.scala\n",
    "// https://github.com/firesim/firesim/blob/366ceabe13ce27056ec1c53bf93d017ec182d85e/sim/midas/src/main/scala/junctions/nasti.scala\n",
    "\n",
    "\n",
    "// class NastiIO(implicit p: Parameters) extends NastiBundle()(p) {\n",
    "//   val aw = Decoupled(new NastiWriteAddressChannel)\n",
    "//   val w  = Decoupled(new NastiWriteDataChannel)\n",
    "//   val b  = Decoupled(new NastiWriteResponseChannel).flip\n",
    "//   val ar = Decoupled(new NastiReadAddressChannel)\n",
    "//   val r  = Decoupled(new NastiReadDataChannel).flip\n",
    "// }\n",
    "\n",
    "\n",
    "// class WidgetMMIO(implicit p: Parameters) extends NastiIO()(p)\n",
    "//   with HasNastiParameters\n",
    "\n",
    "// object WidgetMMIO {\n",
    "//   def apply()(implicit p: Parameters): WidgetMMIO = {\n",
    "//     new WidgetMMIO()(p alterPartial ({ case NastiKey => p(CtrlNastiKey) }))\n",
    "//   }\n",
    "// }\n",
    "\n",
    "// // All widgets must implement this interface\n",
    "// // NOTE: Changing ParameterizedBundle -> Bundle breaks PeekPokeWidgetIO when\n",
    "// // outNum = 0\n",
    "// class WidgetIO(implicit p: Parameters) extends ParameterizedBundle()(p){\n",
    "//   val ctrl = Flipped(WidgetMMIO())\n",
    "// }"
   ]
  },
  {
   "cell_type": "code",
   "execution_count": null,
   "id": "adbbccc2",
   "metadata": {},
   "outputs": [],
   "source": []
  },
  {
   "cell_type": "code",
   "execution_count": null,
   "id": "8ffe9963",
   "metadata": {},
   "outputs": [],
   "source": []
  }
 ],
 "metadata": {
  "kernelspec": {
   "display_name": "Scala",
   "language": "scala",
   "name": "scala"
  },
  "language_info": {
   "codemirror_mode": "text/x-scala",
   "file_extension": ".scala",
   "mimetype": "text/x-scala",
   "name": "scala",
   "nbconvert_exporter": "script",
   "version": "2.12.10"
  }
 },
 "nbformat": 4,
 "nbformat_minor": 5
}
